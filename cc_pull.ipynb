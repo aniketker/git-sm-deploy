{
 "cells": [
  {
   "cell_type": "code",
   "execution_count": 1,
   "metadata": {},
   "outputs": [
    {
     "name": "stdout",
     "output_type": "stream",
     "text": [
      "/home/ec2-user/SageMaker/AmazonSageMaker-deploy-automation-repo\r\n"
     ]
    }
   ],
   "source": [
    "! pwd"
   ]
  },
  {
   "cell_type": "code",
   "execution_count": 2,
   "metadata": {},
   "outputs": [
    {
     "name": "stdout",
     "output_type": "stream",
     "text": [
      "From https://git-codecommit.us-east-1.amazonaws.com/v1/repos/AmazonSageMaker-deploy-automation-repo\r\n",
      " * branch            master     -> FETCH_HEAD\r\n",
      "Updating 6089502..539d021\r\n",
      "error: The following untracked working tree files would be overwritten by merge:\r\n",
      "\tdeploy_template.ipynb\r\n",
      "Please move or remove them before you merge.\r\n",
      "Aborting\r\n"
     ]
    }
   ],
   "source": [
    "#To pull from Codecommit\n",
    "!git pull origin master"
   ]
  },
  {
   "cell_type": "code",
   "execution_count": null,
   "metadata": {},
   "outputs": [],
   "source": []
  }
 ],
 "metadata": {
  "kernelspec": {
   "display_name": "conda_python3",
   "language": "python",
   "name": "conda_python3"
  },
  "language_info": {
   "codemirror_mode": {
    "name": "ipython",
    "version": 3
   },
   "file_extension": ".py",
   "mimetype": "text/x-python",
   "name": "python",
   "nbconvert_exporter": "python",
   "pygments_lexer": "ipython3",
   "version": "3.6.11"
  }
 },
 "nbformat": 4,
 "nbformat_minor": 4
}
